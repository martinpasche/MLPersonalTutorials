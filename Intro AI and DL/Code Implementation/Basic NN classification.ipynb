{
 "cells": [
  {
   "cell_type": "markdown",
   "metadata": {},
   "source": [
    "# Classification multiple choice"
   ]
  },
  {
   "cell_type": "code",
   "execution_count": null,
   "metadata": {},
   "outputs": [],
   "source": [
    "import torch\n",
    "import torch.nn as nn\n",
    "import torch.optim as optim\n",
    "\n",
    "# Define the neural network\n",
    "class SimpleNN(nn.Module):\n",
    "    def __init__(self, input_size, hidden_size, num_classes):\n",
    "        super(SimpleNN, self).__init__()\n",
    "        self.fc1 = nn.Linear(input_size, hidden_size)  # First fully connected layer\n",
    "        self.relu = nn.ReLU()  # ReLU activation\n",
    "        self.fc2 = nn.Linear(hidden_size, num_classes)  # Output layer\n",
    "\n",
    "    def forward(self, x):\n",
    "        x = self.fc1(x)\n",
    "        x = self.relu(x)\n",
    "        x = self.fc2(x)\n",
    "        return x\n",
    "\n",
    "# Parameters\n",
    "input_size = 10  # Example input size (adjust to your input)\n",
    "hidden_size = 5  # Hidden layer size\n",
    "num_classes = 3  # Number of classes for classification\n",
    "\n",
    "# Initialize the model, loss function, and optimizer\n",
    "model = SimpleNN(input_size, hidden_size, num_classes)\n",
    "criterion = nn.CrossEntropyLoss()\n",
    "optimizer = optim.SGD(model.parameters(), lr=0.01)\n",
    "\n",
    "# Example input (batch of size 1 with 10 features)\n",
    "example_input = torch.randn(1, input_size)\n",
    "\n",
    "# Forward pass through the network\n",
    "output = model(example_input)\n",
    "print(output)  # This will give raw scores (logits) for the 3 classes\n",
    "\n",
    "# Example target label (1 out of 3 classes)\n",
    "target = torch.tensor([1])\n",
    "\n",
    "# Compute loss\n",
    "loss = criterion(output, target)\n",
    "print(f\"Loss: {loss.item()}\")\n",
    "\n",
    "# Backward pass and optimization\n",
    "optimizer.zero_grad()  # Zero gradients\n",
    "loss.backward()  # Backpropagation\n",
    "optimizer.step()  # Update weights\n"
   ]
  }
 ],
 "metadata": {
  "language_info": {
   "name": "python"
  }
 },
 "nbformat": 4,
 "nbformat_minor": 2
}
