{
 "cells": [
  {
   "cell_type": "markdown",
   "metadata": {},
   "source": [
    "# Linear regression"
   ]
  },
  {
   "cell_type": "markdown",
   "metadata": {},
   "source": [
    "\n",
    "\\begin{align}\n",
    "    Y = X\\beta + \\epsilon \\\\\n",
    "    Y \\sim N(X\\beta, \\sigma^2 I) \\\\\n",
    "    \\epsilon \\sim N(0, \\sigma^2 I) \\\\\n",
    "    \\nabla_a a^T v = v \\\\\n",
    "    \\nabla_a a^T M a = (M + M^T)a \\\\\n",
    "\\end{align}"
   ]
  },
  {
   "cell_type": "markdown",
   "metadata": {},
   "source": [
    "### Solving problem\n",
    "\n",
    "\\begin{align}\n",
    "    \\hat{\\beta} = \\min_{\\beta} ||Y - X\\beta||^2 \\\\ \n",
    "    \\hat{\\beta} = (X^T X)^{-1} X Y\n",
    "\\end{align}"
   ]
  },
  {
   "cell_type": "markdown",
   "metadata": {},
   "source": [
    "### Correlation\n",
    "\n",
    "\\begin{equation}\n",
    "    r = \\frac{\n",
    "        \\sum (X - \\bar{X})(Y - \\bar{Y})\n",
    "    }{\n",
    "        \\sqrt{\\sum (X - \\bar{X})^2 \\sum (Y - \\bar{Y})^2}\n",
    "    }\n",
    "\\end{equation}"
   ]
  },
  {
   "cell_type": "markdown",
   "metadata": {},
   "source": [
    "Since each $Y_i$ is independent, we can get the likelihood as the following\n",
    "\n",
    "\\begin{align}\n",
    "    L(\\beta, \\sigma^2) = \\prod_{i=1}^n \\frac{1}{\\sqrt{2\\pi\\sigma^2}} \\exp\\left(-\\frac{(Y_i - X_i\\beta)^2}{2\\sigma^2}\\right) \\\\\n",
    "    \\log L(\\beta, \\sigma^2) = -\\frac{n}{2} \\log(2\\pi) - \\frac{n}{2} \\log(\\sigma^2) - \\frac{1}{2\\sigma^2} \\sum_{i=1}^n (Y_i - X_i\\beta)^2\n",
    "\\end{align}"
   ]
  },
  {
   "cell_type": "markdown",
   "metadata": {},
   "source": [
    "Considering the SVD decomposition, $X = V \\Sigma U^T$ and $\\hat{\\beta} = (X^T X)^{-1} X^T y$\n",
    "\n",
    "\\begin{align}\n",
    "    \\hat{\\beta} &= (X^T X)^{-1} X^T y = (U \\Sigma V^T V \\Sigma U^T)^{-1} U \\Sigma V^T y = U \\Sigma^{-1} V^T y \\\\\n",
    "    \\hat{\\beta} &= \\sum_{j=1}^{T} \\frac{v_j^T y}{\\sqrt{\\alpha_j}} u_j\n",
    "\\end{align} \n",
    "\n",
    "$$ U = ( u_1 \\cdots u_T)$$"
   ]
  },
  {
   "cell_type": "markdown",
   "metadata": {},
   "source": [
    "$$\n",
    "E[\\hat{\\beta}] = \\beta\n",
    "$$\n",
    "\n",
    "$$\n",
    "    var(\\hat{\\beta}) = \\sigma^2 (X^T X)^{-1} = \\sigma^2 \\sum_{j=1}^{T} \\frac{u_j u_j^T}{\\alpha_j}\n",
    "$$"
   ]
  }
 ],
 "metadata": {
  "language_info": {
   "name": "python"
  }
 },
 "nbformat": 4,
 "nbformat_minor": 2
}
